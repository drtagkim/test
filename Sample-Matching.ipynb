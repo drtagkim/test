{
 "cells": [
  {
   "cell_type": "code",
   "execution_count": 1,
   "metadata": {},
   "outputs": [
    {
     "name": "stdout",
     "output_type": "stream",
     "text": [
      "Collecting matching\n",
      "  Downloading https://files.pythonhosted.org/packages/12/ec/3e566086083b3de151d0f9b3d08d7196a0c6a047a7d13d52e873667aeeb5/matching-1.3.2.tar.gz\n",
      "Building wheels for collected packages: matching\n",
      "  Building wheel for matching (setup.py): started\n",
      "  Building wheel for matching (setup.py): finished with status 'done'\n",
      "  Stored in directory: C:\\Users\\Research\\AppData\\Local\\pip\\Cache\\wheels\\20\\d1\\45\\1840668206811a397d2a44a9ed769b6cc3b28179e40304a508\n",
      "Successfully built matching\n",
      "Installing collected packages: matching\n",
      "Successfully installed matching-1.3.2\n"
     ]
    }
   ],
   "source": [
    "!pip install matching"
   ]
  },
  {
   "cell_type": "markdown",
   "metadata": {},
   "source": [
    "단순한 선호구조를 바탕으로 확률적 matching 값을 계산하는 방법"
   ]
  },
  {
   "cell_type": "code",
   "execution_count": 26,
   "metadata": {},
   "outputs": [],
   "source": [
    "from matching.games import *"
   ]
  },
  {
   "cell_type": "markdown",
   "metadata": {},
   "source": [
    "Fully-linked preference modeling"
   ]
  },
  {
   "cell_type": "code",
   "execution_count": 6,
   "metadata": {},
   "outputs": [],
   "source": [
    "female={'female1':['male1','male2','male3'],\n",
    "        'female2':['male1','male3','male2'],\n",
    "        'female3':['male3','male1','male2']}\n",
    "male={'male1':['female2','female3','female1'],\n",
    "      'male2':['female1','female3','female2'],\n",
    "      'male3':['female3','female2','female1']}"
   ]
  },
  {
   "cell_type": "code",
   "execution_count": 7,
   "metadata": {},
   "outputs": [],
   "source": [
    "matching_game=StableMarriage.create_from_dictionaries(female,male)"
   ]
  },
  {
   "cell_type": "code",
   "execution_count": 9,
   "metadata": {},
   "outputs": [
    {
     "data": {
      "text/plain": [
       "True"
      ]
     },
     "execution_count": 9,
     "metadata": {},
     "output_type": "execute_result"
    }
   ],
   "source": [
    "matching_game.check_stability()"
   ]
  },
  {
   "cell_type": "code",
   "execution_count": 10,
   "metadata": {},
   "outputs": [
    {
     "data": {
      "text/plain": [
       "True"
      ]
     },
     "execution_count": 10,
     "metadata": {},
     "output_type": "execute_result"
    }
   ],
   "source": [
    "matching_game.check_validity()"
   ]
  },
  {
   "cell_type": "code",
   "execution_count": 11,
   "metadata": {
    "scrolled": true
   },
   "outputs": [
    {
     "data": {
      "text/plain": [
       "{female1: male2, female2: male1, female3: male3}"
      ]
     },
     "execution_count": 11,
     "metadata": {},
     "output_type": "execute_result"
    }
   ],
   "source": [
    "matching_game.solve(optimal=\"female\")"
   ]
  },
  {
   "cell_type": "code",
   "execution_count": 22,
   "metadata": {},
   "outputs": [],
   "source": [
    "female={'female1':['male1','male3','male2'],\n",
    "        'female2':['male3','male2','male1'],\n",
    "        'female3':['male1','male2','male3']}\n",
    "male={'male1':['female3','female1','female2'],\n",
    "      'male2':['female3','female2','female1'],\n",
    "      'male3':['female2','female1','female3']}"
   ]
  },
  {
   "cell_type": "code",
   "execution_count": 23,
   "metadata": {},
   "outputs": [],
   "source": [
    "matching_game=StableMarriage.create_from_dictionaries(female,male)"
   ]
  },
  {
   "cell_type": "code",
   "execution_count": 24,
   "metadata": {},
   "outputs": [
    {
     "data": {
      "text/plain": [
       "{female1: male2, female2: male3, female3: male1}"
      ]
     },
     "execution_count": 24,
     "metadata": {},
     "output_type": "execute_result"
    }
   ],
   "source": [
    "matching_game.solve(optimal=\"female\")"
   ]
  },
  {
   "cell_type": "markdown",
   "metadata": {},
   "source": [
    "Resource limit problem"
   ]
  },
  {
   "cell_type": "code",
   "execution_count": 35,
   "metadata": {},
   "outputs": [],
   "source": [
    "emp_applicants={'A':['C'],\n",
    "           'S':['C','M'],\n",
    "           'D':['C','M','G'],\n",
    "           'L':['M','C','G'],\n",
    "           'J':['C','G','M']\n",
    "}\n",
    "companies={\n",
    "        'M':['D','L','S','J'],\n",
    "        'C':['D','A','S','L','J'],\n",
    "        'G':['D','J','L']\n",
    "}\n",
    "job_position={'M':2,'C':2,'G':2}"
   ]
  },
  {
   "cell_type": "code",
   "execution_count": 36,
   "metadata": {
    "scrolled": true
   },
   "outputs": [],
   "source": [
    "matching_game=HospitalResident.create_from_dictionaries(emp_applicants,companies,job_position)"
   ]
  },
  {
   "cell_type": "code",
   "execution_count": 37,
   "metadata": {},
   "outputs": [
    {
     "data": {
      "text/plain": [
       "{M: [L, S], C: [D, A], G: [J]}"
      ]
     },
     "execution_count": 37,
     "metadata": {},
     "output_type": "execute_result"
    }
   ],
   "source": [
    "matching_game.solve()"
   ]
  }
 ],
 "metadata": {
  "kernelspec": {
   "display_name": "Python 3",
   "language": "python",
   "name": "python3"
  },
  "language_info": {
   "codemirror_mode": {
    "name": "ipython",
    "version": 3
   },
   "file_extension": ".py",
   "mimetype": "text/x-python",
   "name": "python",
   "nbconvert_exporter": "python",
   "pygments_lexer": "ipython3",
   "version": "3.7.3"
  }
 },
 "nbformat": 4,
 "nbformat_minor": 2
}
